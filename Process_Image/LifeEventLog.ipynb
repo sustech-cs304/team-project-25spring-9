{
 "cells": [
  {
   "cell_type": "code",
   "id": "ec7b45728035abe9",
   "metadata": {
    "ExecuteTime": {
     "end_time": "2025-03-12T02:24:11.672953Z",
     "start_time": "2025-03-12T02:22:33.182802Z"
    }
   },
   "source": [
    "import os\n",
    "import piexif\n",
    "from PIL import Image\n",
    "from transformers import BlipProcessor, BlipForConditionalGeneration\n",
    "from geopy.geocoders import Nominatim\n",
    "from datetime import datetime\n",
    "import json\n",
    "\n",
    "# 初始化模型和地理定位器\n",
    "processor = BlipProcessor.from_pretrained(\"Salesforce/blip-image-captioning-base\")\n",
    "model = BlipForConditionalGeneration.from_pretrained(\"Salesforce/blip-image-captioning-base\")\n",
    "geolocator = Nominatim(user_agent=\"event_retrieval_system\")\n",
    "\n",
    "# 文件夹路径（图片存放位置）\n",
    "IMAGE_FOLDER = \"photos\"\n",
    "\n",
    "# 存储事件信息\n",
    "events = []\n",
    "\n",
    "# 将GPS坐标转为可读地址\n",
    "def get_location_name(lat, lon):\n",
    "    try:\n",
    "        location = geolocator.reverse((lat, lon), language='en')\n",
    "        return location.address if location else \"Unknown location\"\n",
    "    except Exception as e:\n",
    "        return \"Unknown location\"\n",
    "\n",
    "# 提取EXIF信息（时间和GPS）\n",
    "def extract_exif(image_path):\n",
    "    try:\n",
    "        exif_data = piexif.load(image_path)\n",
    "        # 时间\n",
    "        date_time = exif_data[\"0th\"].get(piexif.ImageIFD.DateTime)\n",
    "        date_time_str = date_time.decode() if date_time else \"Unknown time\"\n",
    "\n",
    "        # GPS信息\n",
    "        gps_data = exif_data.get(\"GPS\", {})\n",
    "        lat = lon = None\n",
    "        if gps_data:\n",
    "            def dms_to_dd(d, m, s, ref):\n",
    "                dd = d + m / 60 + s / 3600\n",
    "                if ref in ['S', 'W']:\n",
    "                    dd *= -1\n",
    "                return dd\n",
    "\n",
    "            gps_lat = gps_data.get(piexif.GPSIFD.GPSLatitude)\n",
    "            gps_lat_ref = gps_data.get(piexif.GPSIFD.GPSLatitudeRef)\n",
    "            gps_lon = gps_data.get(piexif.GPSIFD.GPSLongitude)\n",
    "            gps_lon_ref = gps_data.get(piexif.GPSIFD.GPSLongitudeRef)\n",
    "\n",
    "            if gps_lat and gps_lat_ref and gps_lon and gps_lon_ref:\n",
    "                lat = dms_to_dd(gps_lat[0][0]/gps_lat[0][1],\n",
    "                                gps_lat[1][0]/gps_lat[1][1],\n",
    "                                gps_lat[2][0]/gps_lat[2][1],\n",
    "                                gps_lat_ref.decode())\n",
    "\n",
    "                lon = dms_to_dd(gps_lon[0][0]/gps_lon[0][1],\n",
    "                                gps_lon[1][0]/gps_lon[1][1],\n",
    "                                gps_lon[2][0]/gps_lon[2][1],\n",
    "                                gps_lon_ref.decode())\n",
    "\n",
    "        return date_time_str, lat, lon\n",
    "    except Exception as e:\n",
    "        print(f\"EXIF extraction error for {image_path}: {e}\")\n",
    "        return \"Unknown time\", None, None\n",
    "\n",
    "# 生成图片描述\n",
    "def generate_caption(image_path):\n",
    "    try:\n",
    "        raw_image = Image.open(image_path).convert('RGB')\n",
    "        inputs = processor(raw_image, return_tensors=\"pt\")\n",
    "        out = model.generate(**inputs)\n",
    "        caption = processor.decode(out[0], skip_special_tokens=True)\n",
    "        return caption\n",
    "    except Exception as e:\n",
    "        print(f\"Caption generation error for {image_path}: {e}\")\n",
    "        return \"No description available.\"\n",
    "\n",
    "# 处理文件夹下所有图片\n",
    "def process_images(folder_path):\n",
    "    for filename in os.listdir(folder_path):\n",
    "        if filename.lower().endswith(('jpg', 'jpeg', 'png')):\n",
    "            img_path = os.path.join(folder_path, filename)\n",
    "\n",
    "            # 提取元信息\n",
    "            date_time_str, lat, lon = extract_exif(img_path)\n",
    "            location_name = get_location_name(lat, lon) if lat and lon else \"Location Unknown\"\n",
    "\n",
    "            # 生成描述\n",
    "            caption = generate_caption(img_path)\n",
    "\n",
    "            # 整理事件数据\n",
    "            event = {\n",
    "                \"image\": filename,\n",
    "                \"datetime\": date_time_str,\n",
    "                \"location\": location_name,\n",
    "                \"caption\": caption\n",
    "            }\n",
    "            print(f\"Processed {filename}: {caption} @ {location_name} on {date_time_str}\")\n",
    "            events.append(event)\n",
    "\n",
    "# 日志输出为 JSON 和 Markdown\n",
    "def output_logs(events, json_file='event_log.json', md_file='event_log.md'):\n",
    "    # 按时间排序\n",
    "    def parse_date(date_str):\n",
    "        try:\n",
    "            return datetime.strptime(date_str, \"%Y:%m:%d %H:%M:%S\")\n",
    "        except:\n",
    "            return datetime.min\n",
    "\n",
    "    events_sorted = sorted(events, key=lambda x: parse_date(x[\"datetime\"]))\n",
    "\n",
    "    # 保存JSON\n",
    "    with open(json_file, 'w', encoding='utf-8') as f:\n",
    "        json.dump(events_sorted, f, indent=4, ensure_ascii=False)\n",
    "\n",
    "    # 保存Markdown\n",
    "    with open(md_file, 'w', encoding='utf-8') as f:\n",
    "        f.write(\"# 📸 Life Event Log\\n\\n\")\n",
    "        for event in events_sorted:\n",
    "            f.write(f\"## {event['datetime']}\\n\")\n",
    "            f.write(f\"- **Location**: {event['location']}\\n\")\n",
    "            f.write(f\"- **Description**: {event['caption']}\\n\")\n",
    "            f.write(f\"- ![Image]({event['image']})\\n\\n\")"
   ],
   "outputs": [],
   "execution_count": 1
  },
  {
   "metadata": {
    "collapsed": true,
    "ExecuteTime": {
     "end_time": "2025-03-12T02:24:43.533302Z",
     "start_time": "2025-03-12T02:24:17.917786Z"
    }
   },
   "cell_type": "code",
   "source": [
    "\n",
    "# 主程序\n",
    "process_images(IMAGE_FOLDER)\n",
    "output_logs(events)\n",
    "\n",
    "print(\"日志生成完毕！查看 event_log.json 和 event_log.md\")\n"
   ],
   "id": "initial_id",
   "outputs": [
    {
     "name": "stdout",
     "output_type": "stream",
     "text": [
      "Processed 1.jpg: a man wearing glasses and a blue jacket @ Location Unknown on Unknown time\n",
      "Processed 10.jpg: a street with a building and a sky @ Location Unknown on Unknown time\n",
      "Processed 11.jpg: a plate of food with a bowl of sauce @ Location Unknown on Unknown time\n",
      "Processed 2.jpg: a young man wearing glasses and a black jacket @ Location Unknown on Unknown time\n",
      "Processed 3.jpg: a young boy standing in front of a rock formation @ Location Unknown on Unknown time\n",
      "Processed 4.jpg: a boy in a blue jacket waving @ Location Unknown on Unknown time\n",
      "Processed 5.jpg: a young boy sitting on a giant ball @ Location Unknown on Unknown time\n",
      "Processed 6.jpg: a man standing in front of a fountain @ Location Unknown on Unknown time\n",
      "Processed 7.jpg: a group of people sitting at a table eating pizza @ Unknown location on 2024:03:24 15:03:47\n",
      "Processed 8.jpg: two cats are sitting on a roof with beer cans @ Location Unknown on Unknown time\n",
      "Processed 9.jpg: a man sitting at a desk in front of a bookcase @ Location Unknown on Unknown time\n",
      "日志生成完毕！查看 event_log.json 和 event_log.md\n"
     ]
    }
   ],
   "execution_count": 2
  },
  {
   "metadata": {
    "ExecuteTime": {
     "end_time": "2025-03-12T02:53:13.825446Z",
     "start_time": "2025-03-12T02:52:11.113189Z"
    }
   },
   "cell_type": "code",
   "source": "!streamlit run timeline_app.py",
   "id": "e65bedccfe459be3",
   "outputs": [
    {
     "name": "stdout",
     "output_type": "stream",
     "text": [
      "^C\n"
     ]
    }
   ],
   "execution_count": 5
  }
 ],
 "metadata": {
  "kernelspec": {
   "display_name": "Python 3",
   "language": "python",
   "name": "python3"
  },
  "language_info": {
   "codemirror_mode": {
    "name": "ipython",
    "version": 2
   },
   "file_extension": ".py",
   "mimetype": "text/x-python",
   "name": "python",
   "nbconvert_exporter": "python",
   "pygments_lexer": "ipython2",
   "version": "2.7.6"
  }
 },
 "nbformat": 4,
 "nbformat_minor": 5
}
